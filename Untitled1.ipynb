{
  "nbformat": 4,
  "nbformat_minor": 0,
  "metadata": {
    "colab": {
      "name": "Untitled1.ipynb",
      "provenance": [],
      "authorship_tag": "ABX9TyNPY4MIm+N/T76JrDmaIubY",
      "include_colab_link": true
    },
    "kernelspec": {
      "name": "python3",
      "display_name": "Python 3"
    }
  },
  "cells": [
    {
      "cell_type": "markdown",
      "metadata": {
        "id": "view-in-github",
        "colab_type": "text"
      },
      "source": [
        "<a href=\"https://colab.research.google.com/github/enycz/302-test-repo/blob/master/Untitled1.ipynb\" target=\"_parent\"><img src=\"https://colab.research.google.com/assets/colab-badge.svg\" alt=\"Open In Colab\"/></a>"
      ]
    },
    {
      "cell_type": "code",
      "metadata": {
        "id": "Y-rf6NFRulDs",
        "colab_type": "code",
        "colab": {
          "base_uri": "https://localhost:8080/",
          "height": 34
        },
        "outputId": "f355f959-2857-411a-b5b4-14f996f25935"
      },
      "source": [
        "# Here is where documentation goes.\n",
        "x = 2\n",
        "y = 3\n",
        "x = x + y\n",
        "print (x)"
      ],
      "execution_count": null,
      "outputs": [
        {
          "output_type": "stream",
          "text": [
            "5\n"
          ],
          "name": "stdout"
        }
      ]
    },
    {
      "cell_type": "markdown",
      "metadata": {
        "id": "rD-WOsWrwddh",
        "colab_type": "text"
      },
      "source": [
        "x = snd y = are our variables"
      ]
    },
    {
      "cell_type": "code",
      "metadata": {
        "id": "M3JB2gdMGYyl",
        "colab_type": "code",
        "colab": {
          "base_uri": "https://localhost:8080/",
          "height": 68
        },
        "outputId": "ebd9d262-289c-4b57-ff78-d23078a4aad6"
      },
      "source": [
        "# Add your comment code here...\n",
        "pi = 3.14\n",
        "r = 2.0\n",
        "area = pi * (r**2)\n",
        "perim= 2.0*pi*r\n",
        "print(\"Given r: \",r)\n",
        "print(\"Area is:\", area)\n",
        "print(\"Perimeter is: \", perim)"
      ],
      "execution_count": null,
      "outputs": [
        {
          "output_type": "stream",
          "text": [
            "Given r:  2.0\n",
            "Area is: 12.56\n",
            "Perimeter is:  12.56\n"
          ],
          "name": "stdout"
        }
      ]
    },
    {
      "cell_type": "markdown",
      "metadata": {
        "id": "BEaT8zVbG7_Y",
        "colab_type": "text"
      },
      "source": [
        "in quotes is telling what it to say, writing the name after is telling it to write what we said to equal"
      ]
    },
    {
      "cell_type": "code",
      "metadata": {
        "id": "MwF0vDf7vgmb",
        "colab_type": "code",
        "colab": {
          "base_uri": "https://localhost:8080/",
          "height": 68
        },
        "outputId": "2104ad4e-54be-4d84-afcd-dde861535565"
      },
      "source": [
        "# This is some sample code \n",
        "message = \"Python version: 3.x\"\n",
        "n = 17\n",
        "pi = 3.14159\n",
        "print(message)\n",
        "print(n)\n",
        "print(pi)"
      ],
      "execution_count": null,
      "outputs": [
        {
          "output_type": "stream",
          "text": [
            "Python version: 3.x\n",
            "17\n",
            "3.14159\n"
          ],
          "name": "stdout"
        }
      ]
    },
    {
      "cell_type": "code",
      "metadata": {
        "id": "VbNmVN8NCrRR",
        "colab_type": "code",
        "colab": {
          "base_uri": "https://localhost:8080/",
          "height": 34
        },
        "outputId": "73aa0436-6960-4b30-dc77-c9fe547e807d"
      },
      "source": [
        "folder = \"d:/data/ma\"\n",
        "file_1 = \"roads.shp\"\n",
        "road_layer = folder + file_1\n",
        "print(road_layer)"
      ],
      "execution_count": null,
      "outputs": [
        {
          "output_type": "stream",
          "text": [
            "d:/data/maroads.shp\n"
          ],
          "name": "stdout"
        }
      ]
    },
    {
      "cell_type": "markdown",
      "metadata": {
        "id": "ZuPHRiFZDCTJ",
        "colab_type": "text"
      },
      "source": [
        "when you put things in quotes \"\" it reads it as characters"
      ]
    },
    {
      "cell_type": "code",
      "metadata": {
        "id": "Y2B0PZuGDDP8",
        "colab_type": "code",
        "colab": {
          "base_uri": "https://localhost:8080/",
          "height": 34
        },
        "outputId": "3b4ae9f2-f594-4f42-b116-952c58672c13"
      },
      "source": [
        "my_string = \"pointdata\"\n",
        "print(my_string*3)"
      ],
      "execution_count": null,
      "outputs": [
        {
          "output_type": "stream",
          "text": [
            "pointdatapointdatapointdata\n"
          ],
          "name": "stdout"
        }
      ]
    },
    {
      "cell_type": "code",
      "metadata": {
        "id": "DOJQVZlSDkLX",
        "colab_type": "code",
        "colab": {
          "base_uri": "https://localhost:8080/",
          "height": 34
        },
        "outputId": "e2b8997c-bf93-439c-b170-30985565f0a5"
      },
      "source": [
        "n = 42\n",
        "print(n)"
      ],
      "execution_count": null,
      "outputs": [
        {
          "output_type": "stream",
          "text": [
            "42\n"
          ],
          "name": "stdout"
        }
      ]
    },
    {
      "cell_type": "code",
      "metadata": {
        "id": "rb4HiTuRDyBu",
        "colab_type": "code",
        "colab": {
          "base_uri": "https://localhost:8080/",
          "height": 51
        },
        "outputId": "d401c59d-5874-45d8-917f-75212637f806"
      },
      "source": [
        "n = 42\n",
        "print(\"Firstline \\n Second line\")"
      ],
      "execution_count": null,
      "outputs": [
        {
          "output_type": "stream",
          "text": [
            "Firstline \n",
            " Second line\n"
          ],
          "name": "stdout"
        }
      ]
    },
    {
      "cell_type": "code",
      "metadata": {
        "id": "WeWYmDsYKD_o",
        "colab_type": "code",
        "colab": {}
      },
      "source": [
        ""
      ],
      "execution_count": null,
      "outputs": []
    }
  ]
}